{
 "metadata": {
  "name": "",
  "signature": "sha256:23c3c93670b35cbee91fd883c86cbeec96b1db4d0859b20f1b5e7da7baacba9d"
 },
 "nbformat": 3,
 "nbformat_minor": 0,
 "worksheets": [
  {
   "cells": [
    {
     "cell_type": "code",
     "collapsed": false,
     "input": [
      "%matplotlib inline\n",
      "from pylab import *"
     ],
     "language": "python",
     "metadata": {},
     "outputs": [],
     "prompt_number": 1
    },
    {
     "cell_type": "code",
     "collapsed": false,
     "input": [
      "# example data with some peaks:\n",
      "x = linspace(0,4,1e3)\n",
      "data = .2*sin(10*x)+ exp(-abs(2-x)**2)\n",
      "\n",
      "# that's the line, you need:\n",
      "a = diff(sign(diff(data))).nonzero()[0] + 1 # local min+max\n",
      "b = (diff(sign(diff(data))) > 0).nonzero()[0] + 1 # local min\n",
      "c = (diff(sign(diff(data))) < 0).nonzero()[0] + 1 # local max\n",
      "\n",
      "\n",
      "# graphical output...\n",
      "from pylab import *\n",
      "plot(x,data)\n",
      "plot(x[b], data[b], \"o\", label=\"min\")\n",
      "plot(x[c], data[c], \"o\", label=\"max\")"
     ],
     "language": "python",
     "metadata": {},
     "outputs": [
      {
       "metadata": {},
       "output_type": "pyout",
       "prompt_number": 2,
       "text": [
        "[<matplotlib.lines.Line2D at 0x5171e70>]"
       ]
      },
      {
       "metadata": {},
       "output_type": "display_data",
       "png": "[encoded data removed]",
       "text": [
        "<matplotlib.figure.Figure at 0x5089750>"
       ]
      }
     ],
     "prompt_number": 2
    },
    {
     "cell_type": "code",
     "collapsed": false,
     "input": [
      "\n",
      "f = data[c].copy()"
     ],
     "language": "python",
     "metadata": {},
     "outputs": [],
     "prompt_number": 10
    },
    {
     "cell_type": "code",
     "collapsed": false,
     "input": [
      "f.sort()"
     ],
     "language": "python",
     "metadata": {},
     "outputs": [],
     "prompt_number": 11
    },
    {
     "cell_type": "code",
     "collapsed": false,
     "input": [
      "f"
     ],
     "language": "python",
     "metadata": {},
     "outputs": [
      {
       "metadata": {},
       "output_type": "pyout",
       "prompt_number": 12,
       "text": [
        "array([ 0.22459283,  0.23387786,  0.39120463,  0.43682571,  0.85643978,\n",
        "        0.92618875,  1.1983944 ])"
       ]
      }
     ],
     "prompt_number": 12
    },
    {
     "cell_type": "code",
     "collapsed": false,
     "input": [],
     "language": "python",
     "metadata": {},
     "outputs": []
    }
   ],
   "metadata": {}
  }
 ]
}